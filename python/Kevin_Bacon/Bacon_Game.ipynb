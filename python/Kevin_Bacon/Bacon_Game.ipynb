{
 "cells": [
  {
   "cell_type": "markdown",
   "metadata": {},
   "source": [
    "Author: Justin Pickel  \n",
    "Assignment: Programing Assignment 6  \n",
    "Date: November 23, 2019  \n",
    "Description: This program generates a network graph connecting actors to Kevin Bacon. This programm will ask the user for a actor input. After the input is given the program will calculate the shortest path from the given actor to Kevin Bacon. The length of the path is known as the Bacon number."
   ]
  },
  {
   "cell_type": "markdown",
   "metadata": {},
   "source": []
  }
 ],
 "metadata": {
  "kernelspec": {
   "display_name": "Python 3",
   "language": "python",
   "name": "python3"
  },
  "language_info": {
   "codemirror_mode": {
    "name": "ipython",
    "version": 3
   },
   "file_extension": ".py",
   "mimetype": "text/x-python",
   "name": "python",
   "nbconvert_exporter": "python",
   "pygments_lexer": "ipython3",
   "version": "3.7.3"
  }
 },
 "nbformat": 4,
 "nbformat_minor": 2
}
