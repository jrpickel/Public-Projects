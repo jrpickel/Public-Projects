{
 "cells": [
  {
   "cell_type": "markdown",
   "metadata": {},
   "source": [
    "# K-Means Clustering Algorithim: Cancer Data sets"
   ]
  },
  {
   "cell_type": "markdown",
   "metadata": {},
   "source": [
    "Washington State University  \n",
    "By: Justin Pickel  \n",
    "Date: 9/27/2019\n"
   ]
  },
  {
   "cell_type": "markdown",
   "metadata": {},
   "source": [
    "#### Background: K-Means Clustering\n",
    "One way to cluster objects is called k-means clustering. The goal is to find k different clusters, each represented by a centroid. The centroid is computed as follows: \"the jth value in the centroid is the mean (average) of the jth values of all the members of the cluster\" (Gina Sprint 2017). Our goal is to get every member assigned to the cluster it is closest to.\n",
    "\n",
    "We start the algorithm with k initial clusters and centroids. We then alternate between two steps:\n",
    "\n",
    "1. For each sample, find the nearest prototype. This assigns members to each cluster.\n",
    "\n",
    "1. Set the prototype of each cluster as the centroid of its members.\n",
    "\n",
    "We stop when the cluster assignment doesn't change(hitting convergence), or when we've reached a maximum number of iterations.\n",
    "\n",
    "There are many ways to initialize K-means. We will use a random approach: for each sample, assign it to a randomly selected cluster.\n",
    "\n",
    "Once members are assigned to a cluster, the cluster can set its centroid. Each iteration produces a new set of clusters, by assigning the samples according to the closest centroid. Closest is again just by Euclidean distance:\n",
    "\n",
    "$$d(p,q) = d(q,p) = \\sqrt{(q_1 - p_1)^2 + (q_2 - p_2)^2 + ... + (q_i - p_i)^2} = \\sqrt{\\sum_{i=1}^{n}(q_i - p_i)^2}$$\n",
    "\n",
    "where p and q are equal length vectors.\n",
    "\n",
    "The process iterates until it reaches convergence, that is the membership of samples to clusters does not change from iteration to the next.\n"
   ]
  },
  {
   "cell_type": "markdown",
   "metadata": {},
   "source": [
    "# Kmeans class"
   ]
  },
  {
   "cell_type": "markdown",
   "metadata": {},
   "source": [
    "Next we will create the Kmeans class which will contain its constructor defined by \n",
    "```def __init__```\n",
    "this will construct a Kmeans object used to store our clusters. The Kmeans object will have an attribute ```self.clusters``` which is an array used to store our clusters.\n",
    "\n",
    "The Kmeans class takes an argument ```k``` which is the number of cluster we want to create."
   ]
  },
  {
   "cell_type": "markdown",
   "metadata": {},
   "source": [
    "```python \n",
    "class Kmeans:\n",
    "    def __init__(self,k): # Kmeans constructor\n",
    "        self.k = k\n",
    "        self.clusters = []\n",
    "        for i in range(k): # loop to create clusters.\n",
    "            c = Cluster() # instantization of a cluster.\n",
    "            self.clusters.append(c) #append the cluster to the Kmeans array \"clusters\".```"
   ]
  },
  {
   "cell_type": "markdown",
   "metadata": {},
   "source": [
    "Since we are assigning our members based of the random approach discussed earlier. We will want to add a method to our Kmeans object to accomplish this. The method is called ```def Random(self,df)``` which takes a dataframe ```df``` as an argument. This method start by assigning a random sample to each cluster. This ensures no cluster is empty from the start, then the method assigns the remaining samples to a random cluster."
   ]
  },
  {
   "cell_type": "markdown",
   "metadata": {},
   "source": [
    "```python\n",
    "    def Random(self,df):\n",
    "            for j in self.clusters: # assigns a random sample to each cluster ensuring no cluster is empty.\n",
    "                df_subset = df.sample(axis=0)\n",
    "                index = df_subset.index\n",
    "                df_list = list(df_subset.loc[index[0]])\n",
    "                j.add_sample(df_list) # add the random sample to the cluster.\n",
    "                df = df.drop(df_subset.index) # drop the randonly selected sample from the dataframe.\n",
    "            ind = list(df.index)\n",
    "            for i in ind: # for the rest of the samples assign them to a random cluster.\n",
    "                rand_num = randrange(len(self.clusters)) # random number generator used to assign a specific cluster.\n",
    "                self.clusters[rand_num].add_sample(list(df.loc[i])) # add the sample to the random cluster.\n",
    "```"
   ]
  },
  {
   "cell_type": "markdown",
   "metadata": {},
   "source": [
    "Since the K-Means algorithim compares the samples to each clusters centroid. We will need a method that can calculate the centroid for each cluster in our Kmeans object. This method is called ```def calc_centroid(self)``` this method takes no arguments, and calculates the mean of each feature in every sample. Then we assign the clusters ```centroid``` attribute to the centroid values calculated for each member in the cluster."
   ]
  },
  {
   "cell_type": "markdown",
   "metadata": {},
   "source": [
    "```python\n",
    "    def calc_centroid(self):\n",
    "        for i in self.clusters: # step through every cluster in the Kmeans cluster array.\n",
    "            df = pd.DataFrame(i.members) # create a dataframe of the members in each cluster.\n",
    "            centroid = df.mean() #use the created dataframe to calculate the mean of each feature.Turn that into a list.\n",
    "            centroid = list(centroid.round(decimals=2))\n",
    "            i.centroid = centroid # assign the clusters attribute \"centroid\" to the list of values generated.\n",
    "```"
   ]
  },
  {
   "cell_type": "markdown",
   "metadata": {},
   "source": [
    "Now that we have the clusters assigned members and a centroid assigned to each cluster. We can begin calculating the distance using the eulicidean formula discussed early. Once we know the distance from each sample to every clusters centroid we can then reassign that sample to the nearest clusters members array. This allows use to start finding distinct groups between the samples. We can accomplish this by invoking the method ```def dist(self,df)``` this method takes a dataframe ```df``` object as an argument. "
   ]
  },
  {
   "cell_type": "markdown",
   "metadata": {},
   "source": [
    "```python\n",
    "    def dist(self,df):\n",
    "        index = list(df.index)\n",
    "        for j in index: # for every sample in the dataframe.\n",
    "            vect2 = list(df.loc[j]) # assign that sample to a variable vect2.\n",
    "            array = []\n",
    "            for i in self.clusters: # step through each cluster in the Kmeans clusters array.\n",
    "                if vect2 in i.members:\n",
    "                    cluster = i # hold what cluster this sample came from.\n",
    "                    pull = i.members.index(vect2) # hold the location of the sample within the cluster.\n",
    "                vect1 = i.centroid # assign a variable vect1 to the current clusters centroid.\n",
    "                sums = 0\n",
    "                for k in range(len(vect2)): # loop through each value in the vect2 variable.\n",
    "                    sums += (vect2[k]-vect1[k])**(2) #create a running total of all the diffrence values.\n",
    "                dist = sqrt(sums) # take the square root of the running total this is your distance value.\n",
    "                dist = round(dist,3)\n",
    "                array.append(dist) # store that value in a array.\n",
    "                print(\"Sample=\",vect2)\n",
    "                print(\"Centroid=\",vect1)\n",
    "                print(\"Distance =\",dist)\n",
    "                print(\"\\n\")\n",
    "            push = array.index(min(array)) # the index value of the cluster that the sample should be reassigned to.\n",
    "            cluster.remove_sample(pull) # remove the sample from its current cluster.\n",
    "            self.clusters[push].add_sample(vect2) # add the sample to its newly assigned cluster.\n",
    "```"
   ]
  },
  {
   "cell_type": "markdown",
   "metadata": {},
   "source": [
    "The method ```def get_members(self)``` is a helpful method that allows us to grab all the current members for a Kmeans object. This method returns an array of all the members belonging to the Kmeans object."
   ]
  },
  {
   "cell_type": "markdown",
   "metadata": {},
   "source": [
    "```python\n",
    "    def get_members(self):\n",
    "        array = []\n",
    "        for i in self.clusters:\n",
    "            array.append(i.members) # append all member of that cluster.\n",
    "        return array\n",
    "```"
   ]
  },
  {
   "cell_type": "markdown",
   "metadata": {},
   "source": [
    "Since we can grab all the members easily, it can be very helpful to grab all the current centroids of the Kmeans object. We can do this by invoking the ```def get_centroids(self)``` method. This method return an array of all the centroids accosiated to the Kmeans object."
   ]
  },
  {
   "cell_type": "markdown",
   "metadata": {},
   "source": [
    "```python\n",
    "    def get_centroids(self):\n",
    "        array = []\n",
    "        for i in self.clusters:\n",
    "            array.append(i.centroid) # append the centroids of each cluster to a array.\n",
    "        return array\n",
    "```"
   ]
  },
  {
   "cell_type": "markdown",
   "metadata": {},
   "source": [
    "The last method we will need is a plot method conveniently named ```def plot(self)``` this method will generate a heatmap of all the members of a given Kmeans object. This allows us to visually see if any distinct clusters have formed."
   ]
  },
  {
   "cell_type": "markdown",
   "metadata": {},
   "source": [
    "```python\n",
    "    def plot(self):\n",
    "        total = []\n",
    "        line = 0\n",
    "        for i in range(len(self.clusters)):\n",
    "            total.extend(self.clusters[i].members)\n",
    "        frame1 = plt.subplot() # create a subplot.\n",
    "        plt.pcolor(total, cmap=\"seismic\") # create the heatmap using plt.pcolor color scale is seismic.\n",
    "        frame1.axes.get_xaxis().set_visible(False) # remove labels from x axis.\n",
    "        frame1.axes.get_yaxis().set_visible(False) # remove labels from y axis.\n",
    "        for i in range(1,len(self.clusters)):\n",
    "            line += len(self.clusters[-i].members)\n",
    "            plt.axhline(y=line,c=\"Lime\",lw=3.0)\n",
    "        plt.colorbar() # create a colobar scale.\n",
    "        plt.show()\n",
    "```"
   ]
  },
  {
   "cell_type": "markdown",
   "metadata": {},
   "source": [
    "After we have created our Kmeans class we start by creating a cluster class which is a sub class to the Kmeans and will contain a method known as the constructor defined by \n",
    "```def __init__```\n",
    "this constructor takes no arguments and will construct a cluster object used to store our members(samples) and centroid values. The clusters object will have the attributes ```self.members``` which is an array used to store our members and ```self.centroid``` a place in memory to store our centroids that we will calculate after every iteration. Later we will add some methods we can use on our cluster objects."
   ]
  },
  {
   "cell_type": "markdown",
   "metadata": {},
   "source": [
    "```python\n",
    "class Cluster(Kmeans):\n",
    "    def __init__(self):\n",
    "        self.members = []\n",
    "        self.centroid = None\n",
    "```"
   ]
  },
  {
   "cell_type": "markdown",
   "metadata": {},
   "source": [
    "We will want the ability to add samples to a cluster. After all this is needed once we reassign new members to a cluster. When we invoke the method ```def add_sample(self,array)``` which takes a ```array``` as an argument the method will add the passed array to the clusters members attribute. "
   ]
  },
  {
   "cell_type": "markdown",
   "metadata": {},
   "source": [
    "```python\n",
    "    def add_sample(self,array):\n",
    "        self.members.append(array)\n",
    "```"
   ]
  },
  {
   "cell_type": "markdown",
   "metadata": {},
   "source": [
    "If we add a sample to a cluster we will more than likely want to remove a sample from a cluster. This is accomplished by calling the method ```def remove_sample(self,index)```. This method takes ```index``` as an argument this is a numerical value representing the index location within a clusters members array. For example if we have two samples(members) in a cluster and we want to remove the first sample in the members array we will pass 0 to ```remove_sample```. "
   ]
  },
  {
   "cell_type": "markdown",
   "metadata": {},
   "source": [
    "```python\n",
    "    def remove_sample(self,index):\n",
    "            self.members.pop(index)\n",
    "```"
   ]
  },
  {
   "cell_type": "markdown",
   "metadata": {},
   "source": [
    "Now that we have explained every piece of our Kmeans and Cluster class we can put this all together and start clustering data. We will first start with getting a sample plot working then we will use this algorithim to cluster a bigger data set."
   ]
  },
  {
   "cell_type": "markdown",
   "metadata": {},
   "source": [
    "<center>**Here is the entire Kmeans class including the Cluster sub class.**</center>"
   ]
  },
  {
   "cell_type": "code",
   "execution_count": 1,
   "metadata": {},
   "outputs": [],
   "source": [
    "from math import*\n",
    "from random import randrange\n",
    "import matplotlib.pyplot as plt\n",
    "# ########################################################################################\n",
    "# Programmer: Justin Pickel\n",
    "# Class: CptS 215 Fall 2019\n",
    "# Programming Assignment #2\n",
    "# 9/27/19\n",
    "#\n",
    "# Description: This program runs a Kmeans clustering algorithim to find a distinctive \n",
    "#              group of cluster patterns.\n",
    "# ########################################################################################\n",
    "\n",
    "class Kmeans:\n",
    "    '''A class that creates a Kmeans object which is designed to allow various methods to be used on the object.\n",
    "    def __init__: method used as the Kmeans Constructor which is called when you instantiate a Kmeans object.\n",
    "    def Random: method used to assign samples to a random cluster.\n",
    "    def cal_centroid: method used to calculate the centroids values.\n",
    "    def dist: method used to calculate the disatance and reassignment to clusters based of Euclidean distance.\n",
    "    def get_members: method used to retrieve the members of the Kmeans object.\n",
    "    def get_centroids: method used to retrieve the centroids of the Kmeans object.\n",
    "    def plot: method used to plot a heatmap of the data stored in the Kmeans object.\n",
    "    Attribute k: a reference to the number of clusters stored in the Kmeans object.\n",
    "    Attribute clusters: an array used to store the instantiated clusters.\n",
    "    '''\n",
    "    def __init__(self,k): # Kmeans constructor\n",
    "        '''A method used to create the Kmeans object.\n",
    "        Parameter k: a number used to define the amount of cluster to create.\n",
    "        clusters are objects created from the clusters class.\n",
    "        '''\n",
    "        self.k = k\n",
    "        self.clusters = []\n",
    "        for i in range(k): # loop to create clusters.\n",
    "            c = Cluster() # instantization of a cluster.\n",
    "            self.clusters.append(c) #append the cluster to the Kmeans array \"clusters\".\n",
    "            \n",
    "    def Random(self,df):\n",
    "        '''A method which assigns samples from the dataframe passed to random cluster objects\n",
    "        Parameter df: a dataframe used to pull samples from.\n",
    "        '''\n",
    "        for j in self.clusters: # assigns a random sample to each cluster ensuring no cluster is empty.\n",
    "            df_subset = df.sample(axis=0)\n",
    "            index = df_subset.index\n",
    "            df_list = list(df_subset.loc[index[0]])\n",
    "            j.add_sample(df_list) # add the random sample to the cluster.\n",
    "            df = df.drop(df_subset.index) # drop the randonly selected sample from the dataframe.\n",
    "        ind = list(df.index)\n",
    "        for i in ind: # for the rest of the samples assign them to a random cluster.\n",
    "            rand_num = randrange(len(self.clusters)) # random number generator used to assign a specific cluster.\n",
    "            self.clusters[rand_num].add_sample(list(df.loc[i])) # add the sample to the random cluster.\n",
    "                 \n",
    "    def calc_centroid(self):\n",
    "        '''A method used to calulate the centroid of every cluster in the Kmeans array.\n",
    "        This function takes the average of each feature from every member of a cluster and assigns that \n",
    "        array value to the clusters centroid attribute.\n",
    "        '''\n",
    "        for i in self.clusters: # step through every cluster in the Kmeans cluster array.\n",
    "            df = pd.DataFrame(i.members) # create a dataframe of the members in each cluster.\n",
    "            centroid = df.mean() # use the created dataframe to calculate the mean of each feature. Turn that into a list.\n",
    "            centroid = list(centroid.round(decimals=2))\n",
    "            i.centroid = centroid # assign the clusters attribute \"centroid\" to the list of values generated.\n",
    "\n",
    "    def dist(self,df):\n",
    "        '''A method that calculates the distance from each sample to every clusters centroid resulting in a numerical value\n",
    "        of each cluster.\n",
    "        Parameter df: a dataframe that has all of our samples we want to compare.\n",
    "        '''\n",
    "        index = list(df.index)\n",
    "        for j in index: # for every sample in the dataframe.\n",
    "            vect2 = list(df.loc[j]) # assign that sample to a variable vect2.\n",
    "            array = []\n",
    "            for i in self.clusters: # step through each cluster in the Kmeans clusters array.\n",
    "                if vect2 in i.members:\n",
    "                    cluster = i # hold what cluster this sample came from.\n",
    "                    pull = i.members.index(vect2) # hold the location of the sample within the cluster.\n",
    "                vect1 = i.centroid # assign a variable vect1 to the current clusters centroid.\n",
    "                sums = 0\n",
    "                for k in range(len(vect2)): # loop through each value in the vect2 variable.\n",
    "                    sums += (vect2[k]-vect1[k])**(2) #create a running total of all the diffrence values between the centroid and the sample.\n",
    "                dist = sqrt(sums) # take the square root of the running total this is your distance value.\n",
    "                dist = round(dist,3)\n",
    "                array.append(dist) # store that value in a array.\n",
    "                if len(df) < 7:\n",
    "                    print(\"Sample=\",vect2)\n",
    "                    print(\"Centroid=\",vect1)\n",
    "                    print(\"Distance =\",dist)\n",
    "                    print(\"\\n\")\n",
    "            push = array.index(min(array)) # the index value of the cluster that the sample should be reassigned to.\n",
    "            cluster.remove_sample(pull) # remove the sample from its current cluster.\n",
    "            self.clusters[push].add_sample(vect2) # add the sample to its newly assigned cluster.\n",
    "    \n",
    "    def get_members(self):\n",
    "        '''A method used to grab all the current members of the Kmeans clusters object.\n",
    "        '''\n",
    "        array = []\n",
    "        for i in self.clusters:\n",
    "            array.append(i.members) # append all member of that cluster.\n",
    "        return array\n",
    "    \n",
    "    def get_centroids(self):\n",
    "        '''A method used to retrieve all the centroids from the Kmeans clusters object.\n",
    "        '''\n",
    "        array = []\n",
    "        for i in self.clusters:\n",
    "            array.append(i.centroid) # append the centroids of each cluster to a array.\n",
    "        return array\n",
    "    \n",
    "    def plot(self):\n",
    "        '''A method used to plot a heatmap of the Kmeans clusters members.\n",
    "        '''\n",
    "        total = []\n",
    "        line = 0\n",
    "        for i in range(len(self.clusters)):\n",
    "            total.extend(self.clusters[i].members)\n",
    "        frame1 = plt.subplot() # create a subplot.\n",
    "        plt.pcolor(total, cmap=\"seismic\") # create the heatmap using plt.pcolor color scale is seismic.\n",
    "        frame1.axes.get_xaxis().set_visible(False) # remove labels from x axis.\n",
    "        frame1.axes.get_yaxis().set_visible(False) # remove labels from y axis.\n",
    "        for i in range(1,len(self.clusters)):\n",
    "            line += len(self.clusters[-i].members)\n",
    "            plt.axhline(y=line,c=\"Lime\",lw=3.0)\n",
    "        plt.colorbar() # create a colobar scale.\n",
    "        plt.show()\n",
    "        \n",
    "class Cluster(Kmeans):\n",
    "    '''A class used to creat cluster objects which are inturn stored in a Kmeans object array.\n",
    "    This class is a child class of Kmeans.\n",
    "    def __init__: a method used as the class constructor.\n",
    "    def add_sample: a method used to add samples to a cluster.\n",
    "    def remove_sample: a method used to remove a sample from a cluster given its location within the cluster.\n",
    "    Attribute members: an array containg all the samples assigned to that cluster.\n",
    "    Attribute centroid: an array representing the clusters centroid.\n",
    "    '''\n",
    "    def __init__(self):\n",
    "        '''The constructor for a cluster object.\n",
    "        '''\n",
    "        self.members = []\n",
    "        self.centroid = None\n",
    "    \n",
    "    def add_sample(self,array):\n",
    "        '''A method used to add samples to a cluster.\n",
    "        Parameter array: A array used to represent the sample.\n",
    "        '''\n",
    "        self.members.append(array)\n",
    "    \n",
    "    def remove_sample(self,index):\n",
    "        '''A method used to remove a sample from a cluster given its location within the cluster.\n",
    "        Parameter index: the location of the sample to be removed.\n",
    "        '''\n",
    "        self.members.pop(index)"
   ]
  },
  {
   "cell_type": "markdown",
   "metadata": {},
   "source": [
    "First thing we need to do is read in the data files. We will first read in the sample data ```sample.csv``` using the ```pandas ``` library. Once the file is read in it will convert it to a dataframe using ```pd.read_csv(filename)```"
   ]
  },
  {
   "cell_type": "code",
   "execution_count": 2,
   "metadata": {},
   "outputs": [
    {
     "name": "stdout",
     "output_type": "stream",
     "text": [
      "     1    2    3    4    5    6    7    8    9    10\n",
      "0                                                   \n",
      "g0  0.0  0.1  0.2  0.0  0.4  0.5  0.6  0.7  0.8  0.9\n",
      "g1  1.0  0.9  0.8  0.7  0.6  0.5  0.4  0.3  0.0  0.1\n",
      "g2  0.1  0.2  0.3  0.4  0.5  0.6  0.7  0.8  0.9  1.0\n",
      "g3  0.4  0.4  0.4  0.4  0.4  0.4  0.4  0.4  0.4  0.4\n",
      "g4  0.9  0.8  0.7  0.6  0.5  0.4  0.3  0.2  0.1  0.0\n",
      "g5  0.5  0.0  0.5  0.5  0.5  0.5  0.5  0.5  0.5  0.5\n"
     ]
    }
   ],
   "source": [
    "import pandas as pd\n",
    "\n",
    "df = pd.read_csv('cancer_sample.csv',header=None,index_col=0)\n",
    "print(df)"
   ]
  },
  {
   "cell_type": "markdown",
   "metadata": {},
   "source": [
    "Now we can instantiate a Kmeans object by assigning a varible to the ```Kmeans(k)``` command in this example we call our Kmeans object ```kmc``` and we will be passing a k value of ```3```.  \n",
    "We will show the the current clusters by calling the kmeans object attribute ```kmc.clusters```"
   ]
  },
  {
   "cell_type": "code",
   "execution_count": 3,
   "metadata": {},
   "outputs": [
    {
     "name": "stdout",
     "output_type": "stream",
     "text": [
      "<class '__main__.Kmeans'>\n"
     ]
    },
    {
     "data": {
      "text/plain": [
       "[<__main__.Cluster at 0x232bc070a90>,\n",
       " <__main__.Cluster at 0x232bc070ac8>,\n",
       " <__main__.Cluster at 0x232bc070b00>]"
      ]
     },
     "execution_count": 3,
     "metadata": {},
     "output_type": "execute_result"
    }
   ],
   "source": [
    "kmc = Kmeans(3) # creating a Kmeans object with 3 clusters\n",
    "print(type(kmc)) # shows what type of object kmc is\n",
    "kmc.clusters # shows current clusters objects that belong to our Kmeans object"
   ]
  },
  {
   "cell_type": "markdown",
   "metadata": {},
   "source": [
    "Since we will use the random approch to assigning clusters as mentioned above. We wil want to add a method to assign samples to random clusters. The code below accomplishes this by adding the ```def Random(self,df)``` this method takes an argument ```df``` which is a dataframe. So in this example we will call this method passing it the ```df``` dataframe we created above."
   ]
  },
  {
   "cell_type": "code",
   "execution_count": 4,
   "metadata": {},
   "outputs": [
    {
     "data": {
      "text/plain": [
       "[[[0.5, 0.0, 0.5, 0.5, 0.5, 0.5, 0.5, 0.5, 0.5, 0.5],\n",
       "  [0.9, 0.8, 0.7, 0.6, 0.5, 0.4, 0.3, 0.2, 0.1, 0.0]],\n",
       " [[0.1, 0.2, 0.3, 0.4, 0.5, 0.6, 0.7, 0.8, 0.9, 1.0]],\n",
       " [[0.0, 0.1, 0.2, 0.0, 0.4, 0.5, 0.6, 0.7, 0.8, 0.9],\n",
       "  [1.0, 0.9, 0.8, 0.7, 0.6, 0.5, 0.4, 0.3, 0.0, 0.1],\n",
       "  [0.4, 0.4, 0.4, 0.4, 0.4, 0.4, 0.4, 0.4, 0.4, 0.4]]]"
      ]
     },
     "execution_count": 4,
     "metadata": {},
     "output_type": "execute_result"
    }
   ],
   "source": [
    "kmc.Random(df)\n",
    "kmc.get_members() # shows the current members of all the clusters."
   ]
  },
  {
   "cell_type": "code",
   "execution_count": 5,
   "metadata": {},
   "outputs": [
    {
     "data": {
      "text/plain": [
       "[[0.7, 0.4, 0.6, 0.55, 0.5, 0.45, 0.4, 0.35, 0.3, 0.25],\n",
       " [0.1, 0.2, 0.3, 0.4, 0.5, 0.6, 0.7, 0.8, 0.9, 1.0],\n",
       " [0.47, 0.47, 0.47, 0.37, 0.47, 0.47, 0.47, 0.47, 0.4, 0.47]]"
      ]
     },
     "execution_count": 5,
     "metadata": {},
     "output_type": "execute_result"
    }
   ],
   "source": [
    "kmc.calc_centroid() # calculates centroid based off current members\n",
    "kmc.get_centroids() # shows the current centroids for the Kmeans object after calculation"
   ]
  },
  {
   "cell_type": "markdown",
   "metadata": {},
   "source": [
    "Now we can iterate the two steps discussed earlier  \n",
    "1. For each sample, find the nearest prototype.\n",
    "\n",
    "1. Set the prototype of each cluster as the centroid of its members.  \n",
    "\n",
    "And once the algorithm converges or hits our max iteration we stop iterating."
   ]
  },
  {
   "cell_type": "code",
   "execution_count": 6,
   "metadata": {},
   "outputs": [
    {
     "name": "stdout",
     "output_type": "stream",
     "text": [
      "                                                  Members Before\n",
      "[[[0.5, 0.0, 0.5, 0.5, 0.5, 0.5, 0.5, 0.5, 0.5, 0.5], [0.9, 0.8, 0.7, 0.6, 0.5, 0.4, 0.3, 0.2, 0.1, 0.0]], [[0.1, 0.2, 0.3, 0.4, 0.5, 0.6, 0.7, 0.8, 0.9, 1.0]], [[0.0, 0.1, 0.2, 0.0, 0.4, 0.5, 0.6, 0.7, 0.8, 0.9], [1.0, 0.9, 0.8, 0.7, 0.6, 0.5, 0.4, 0.3, 0.0, 0.1], [0.4, 0.4, 0.4, 0.4, 0.4, 0.4, 0.4, 0.4, 0.4, 0.4]]] \n",
      "\n",
      "Sample= [0.0, 0.1, 0.2, 0.0, 0.4, 0.5, 0.6, 0.7, 0.8, 0.9]\n",
      "Centroid= [0.7, 0.4, 0.6, 0.55, 0.5, 0.45, 0.4, 0.35, 0.3, 0.25]\n",
      "Distance = 1.375\n",
      "\n",
      "\n",
      "Sample= [0.0, 0.1, 0.2, 0.0, 0.4, 0.5, 0.6, 0.7, 0.8, 0.9]\n",
      "Centroid= [0.1, 0.2, 0.3, 0.4, 0.5, 0.6, 0.7, 0.8, 0.9, 1.0]\n",
      "Distance = 0.5\n",
      "\n",
      "\n",
      "Sample= [0.0, 0.1, 0.2, 0.0, 0.4, 0.5, 0.6, 0.7, 0.8, 0.9]\n",
      "Centroid= [0.47, 0.47, 0.47, 0.37, 0.47, 0.47, 0.47, 0.47, 0.4, 0.47]\n",
      "Distance = 0.994\n",
      "\n",
      "\n",
      "Sample= [1.0, 0.9, 0.8, 0.7, 0.6, 0.5, 0.4, 0.3, 0.0, 0.1]\n",
      "Centroid= [0.7, 0.4, 0.6, 0.55, 0.5, 0.45, 0.4, 0.35, 0.3, 0.25]\n",
      "Distance = 0.728\n",
      "\n",
      "\n",
      "Sample= [1.0, 0.9, 0.8, 0.7, 0.6, 0.5, 0.4, 0.3, 0.0, 0.1]\n",
      "Centroid= [0.1, 0.2, 0.3, 0.4, 0.5, 0.6, 0.7, 0.8, 0.9, 1.0]\n",
      "Distance = 1.903\n",
      "\n",
      "\n",
      "Sample= [1.0, 0.9, 0.8, 0.7, 0.6, 0.5, 0.4, 0.3, 0.0, 0.1]\n",
      "Centroid= [0.47, 0.47, 0.47, 0.37, 0.47, 0.47, 0.47, 0.47, 0.4, 0.47]\n",
      "Distance = 1.016\n",
      "\n",
      "\n",
      "Sample= [0.1, 0.2, 0.3, 0.4, 0.5, 0.6, 0.7, 0.8, 0.9, 1.0]\n",
      "Centroid= [0.7, 0.4, 0.6, 0.55, 0.5, 0.45, 0.4, 0.35, 0.3, 0.25]\n",
      "Distance = 1.323\n",
      "\n",
      "\n",
      "Sample= [0.1, 0.2, 0.3, 0.4, 0.5, 0.6, 0.7, 0.8, 0.9, 1.0]\n",
      "Centroid= [0.1, 0.2, 0.3, 0.4, 0.5, 0.6, 0.7, 0.8, 0.9, 1.0]\n",
      "Distance = 0.0\n",
      "\n",
      "\n",
      "Sample= [0.1, 0.2, 0.3, 0.4, 0.5, 0.6, 0.7, 0.8, 0.9, 1.0]\n",
      "Centroid= [0.47, 0.47, 0.47, 0.37, 0.47, 0.47, 0.47, 0.47, 0.4, 0.47]\n",
      "Distance = 0.975\n",
      "\n",
      "\n",
      "Sample= [0.4, 0.4, 0.4, 0.4, 0.4, 0.4, 0.4, 0.4, 0.4, 0.4]\n",
      "Centroid= [0.7, 0.4, 0.6, 0.55, 0.5, 0.45, 0.4, 0.35, 0.3, 0.25]\n",
      "Distance = 0.447\n",
      "\n",
      "\n",
      "Sample= [0.4, 0.4, 0.4, 0.4, 0.4, 0.4, 0.4, 0.4, 0.4, 0.4]\n",
      "Centroid= [0.1, 0.2, 0.3, 0.4, 0.5, 0.6, 0.7, 0.8, 0.9, 1.0]\n",
      "Distance = 1.025\n",
      "\n",
      "\n",
      "Sample= [0.4, 0.4, 0.4, 0.4, 0.4, 0.4, 0.4, 0.4, 0.4, 0.4]\n",
      "Centroid= [0.47, 0.47, 0.47, 0.37, 0.47, 0.47, 0.47, 0.47, 0.4, 0.47]\n",
      "Distance = 0.2\n",
      "\n",
      "\n",
      "Sample= [0.9, 0.8, 0.7, 0.6, 0.5, 0.4, 0.3, 0.2, 0.1, 0.0]\n",
      "Centroid= [0.7, 0.4, 0.6, 0.55, 0.5, 0.45, 0.4, 0.35, 0.3, 0.25]\n",
      "Distance = 0.592\n",
      "\n",
      "\n",
      "Sample= [0.9, 0.8, 0.7, 0.6, 0.5, 0.4, 0.3, 0.2, 0.1, 0.0]\n",
      "Centroid= [0.1, 0.2, 0.3, 0.4, 0.5, 0.6, 0.7, 0.8, 0.9, 1.0]\n",
      "Distance = 1.844\n",
      "\n",
      "\n",
      "Sample= [0.9, 0.8, 0.7, 0.6, 0.5, 0.4, 0.3, 0.2, 0.1, 0.0]\n",
      "Centroid= [0.47, 0.47, 0.47, 0.37, 0.47, 0.47, 0.47, 0.47, 0.4, 0.47]\n",
      "Distance = 0.904\n",
      "\n",
      "\n",
      "Sample= [0.5, 0.0, 0.5, 0.5, 0.5, 0.5, 0.5, 0.5, 0.5, 0.5]\n",
      "Centroid= [0.7, 0.4, 0.6, 0.55, 0.5, 0.45, 0.4, 0.35, 0.3, 0.25]\n",
      "Distance = 0.592\n",
      "\n",
      "\n",
      "Sample= [0.5, 0.0, 0.5, 0.5, 0.5, 0.5, 0.5, 0.5, 0.5, 0.5]\n",
      "Centroid= [0.1, 0.2, 0.3, 0.4, 0.5, 0.6, 0.7, 0.8, 0.9, 1.0]\n",
      "Distance = 0.894\n",
      "\n",
      "\n",
      "Sample= [0.5, 0.0, 0.5, 0.5, 0.5, 0.5, 0.5, 0.5, 0.5, 0.5]\n",
      "Centroid= [0.47, 0.47, 0.47, 0.37, 0.47, 0.47, 0.47, 0.47, 0.4, 0.47]\n",
      "Distance = 0.504\n",
      "\n",
      "\n",
      "                                                  Members After\n",
      "[[[1.0, 0.9, 0.8, 0.7, 0.6, 0.5, 0.4, 0.3, 0.0, 0.1], [0.9, 0.8, 0.7, 0.6, 0.5, 0.4, 0.3, 0.2, 0.1, 0.0]], [[0.0, 0.1, 0.2, 0.0, 0.4, 0.5, 0.6, 0.7, 0.8, 0.9], [0.1, 0.2, 0.3, 0.4, 0.5, 0.6, 0.7, 0.8, 0.9, 1.0]], [[0.4, 0.4, 0.4, 0.4, 0.4, 0.4, 0.4, 0.4, 0.4, 0.4], [0.5, 0.0, 0.5, 0.5, 0.5, 0.5, 0.5, 0.5, 0.5, 0.5]]]\n"
     ]
    }
   ],
   "source": [
    "flag=True # initiate the flag as True to execute the whil loop.\n",
    "count = 0\n",
    "while(flag): # iteration to calculate centroids and distances.\n",
    "    kmc.calc_centroid()\n",
    "    x = kmc.get_members() # grabing the members of all clusters before assignment.\n",
    "    print(\"{:>50}Members Before\".format(\" \"))\n",
    "    print(x,\"\\n\")\n",
    "    kmc.dist(df)\n",
    "    b = kmc.get_members() # grabs the members of the clusters after assignment.\n",
    "    print(\"{:>50}Members After\".format(\" \"))\n",
    "    print(b)\n",
    "    count += 1\n",
    "    if x == b or count == 10: # stops the iteration once the members of the clusters do not change.\n",
    "        flag = False"
   ]
  },
  {
   "cell_type": "code",
   "execution_count": null,
   "metadata": {},
   "outputs": [],
   "source": []
  },
  {
   "cell_type": "markdown",
   "metadata": {},
   "source": [
    "Now we can plot our results and see if we have distinct clusters. It is important to note we will not always have the members converge to the same cluster every time. This is in part because K-Means is suseptible to outliers from inital cluster."
   ]
  },
  {
   "cell_type": "code",
   "execution_count": 7,
   "metadata": {},
   "outputs": [
    {
     "data": {
      "image/png": "[encoded data removed]",
      "text/plain": [
       "<Figure size 432x288 with 2 Axes>"
      ]
     },
     "metadata": {
      "needs_background": "light"
     },
     "output_type": "display_data"
    }
   ],
   "source": [
    "kmc.plot() # plot the heatmap of the end results."
   ]
  },
  {
   "cell_type": "markdown",
   "metadata": {},
   "source": [
    "Now Lets really crunch some data. We will begin by reading in the data from our big dataset file called ```cancer_big.csv```."
   ]
  },
  {
   "cell_type": "code",
   "execution_count": 8,
   "metadata": {},
   "outputs": [],
   "source": [
    "df2 = pd.read_csv(\"cancer_big.csv\",header=None,index_col=0) # dataframe representing the file passed to it."
   ]
  },
  {
   "cell_type": "markdown",
   "metadata": {},
   "source": [
    "Now lets create a Kmeans object and pass it k=```2``` to create a Kmeans object with two clusters."
   ]
  },
  {
   "cell_type": "code",
   "execution_count": 18,
   "metadata": {},
   "outputs": [],
   "source": [
    "kmc = Kmeans(2) # instantiation of the Kmeans object ."
   ]
  },
  {
   "cell_type": "markdown",
   "metadata": {},
   "source": [
    "Lets assign our members to random clusters."
   ]
  },
  {
   "cell_type": "code",
   "execution_count": 19,
   "metadata": {},
   "outputs": [],
   "source": [
    "kmc.Random(df2) # assigning samples to random clusters."
   ]
  },
  {
   "cell_type": "markdown",
   "metadata": {},
   "source": [
    "Iterate through until we hit convergence or max iteration is met."
   ]
  },
  {
   "cell_type": "code",
   "execution_count": 20,
   "metadata": {},
   "outputs": [],
   "source": [
    "flag=True # initiate the flag as True to execute the whil loop.\n",
    "count = 0\n",
    "while(flag): # iteration to calculate centroids and distances.\n",
    "    kmc.calc_centroid()\n",
    "    x = kmc.get_members() # grabing the members of all clusters before assignment.\n",
    "    kmc.dist(df2)\n",
    "    b = kmc.get_members() # grabs the members of the clusters after assignment.\n",
    "    count += 1\n",
    "    if x == b or count == 10: # stops the iteration once the members of the clusters do not change.\n",
    "        flag = False"
   ]
  },
  {
   "cell_type": "markdown",
   "metadata": {},
   "source": [
    "Now lets see some clusters!!!"
   ]
  },
  {
   "cell_type": "code",
   "execution_count": 21,
   "metadata": {},
   "outputs": [
    {
     "data": {
      "image/png": "[encoded data removed]",
      "text/plain": [
       "<Figure size 432x288 with 2 Axes>"
      ]
     },
     "metadata": {
      "needs_background": "light"
     },
     "output_type": "display_data"
    }
   ],
   "source": [
    "kmc.plot() # plot the heatmap of the end results."
   ]
  },
  {
   "cell_type": "markdown",
   "metadata": {},
   "source": [
    "# Conclusion"
   ]
  },
  {
   "cell_type": "markdown",
   "metadata": {},
   "source": [
    "The dataset is partitioned into K clusters and the data points are randomly assigned to the clusters resulting in clusters that have roughly the same number of data points"
   ]
  },
  {
   "cell_type": "markdown",
   "metadata": {},
   "source": [
    "The dataset is divided into K clusters and the data points are assigned to clusters randomly resulting in clusters having diffrent number of dta points upon intilization.\n",
    "\n",
    "for each data point we:  \n",
    "1. Calculate the distance from the data point to each cluster.  \n",
    "1. If the data point is closest to  its own cluster, leave  it where  it is.  If  the data  point  is  not closest  to  its  own  cluster,  move  it  into  the closest cluster.  \n",
    "1. Repeat until no data points move clusters"
   ]
  },
  {
   "cell_type": "markdown",
   "metadata": {},
   "source": [
    "The following information was found on pg 95-96 at [Kmeans Comparison](https://www.researchgate.net/publication/293061584_Comparative_Study_of_K-Means_and_Hierarchical_Clustering_Techniques)  \n",
    "\n",
    "Kaushik, Manju & Mathur, Bhawana. (2014). Comparative Study of K-Means and Hierarchical Clustering Techniques. Internatioonal journal of Software and Hardware Research in Engineering. 2. 93-98. "
   ]
  },
  {
   "cell_type": "markdown",
   "metadata": {},
   "source": [
    "### Strengths\n",
    "* Simple:  -  Easy  to  understand  and  to implement.  \n",
    "* Efficient:  Time  complexity:  O(tkn), where  n is the number of data points,   k is the number  of clusters,  and t  is  the  number  of iterations."
   ]
  },
  {
   "cell_type": "markdown",
   "metadata": {},
   "source": [
    "### Weakness\n",
    "* The user needs to specify k.  \n",
    "* The algorithm is sensitive to outliers \n",
    "* Outliers  could  be  errors  in  the  data recording  or some  special data  points  with very different values. "
   ]
  }
 ],
 "metadata": {
  "kernelspec": {
   "display_name": "Python 3",
   "language": "python",
   "name": "python3"
  },
  "language_info": {
   "codemirror_mode": {
    "name": "ipython",
    "version": 3
   },
   "file_extension": ".py",
   "mimetype": "text/x-python",
   "name": "python",
   "nbconvert_exporter": "python",
   "pygments_lexer": "ipython3",
   "version": "3.7.1"
  }
 },
 "nbformat": 4,
 "nbformat_minor": 2
}
